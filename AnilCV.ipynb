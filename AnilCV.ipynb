from PIL import Image

def display_cat_image(image_path):
    try:
        # Open the image file
        img = Image.open(image_path)

        # Display the image
        img.show()

    except Exception as e:
        print(f"Error: {e}")

if __name__ == "__main__":
    # Specify the path to your cat image
    cat_image_path = "cat.jpg"

    # Call the function to display the cat image
    display_cat_image(cat_image_path)
